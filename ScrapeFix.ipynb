{
  "cells": [
    {
      "cell_type": "code",
      "execution_count": 2,
      "metadata": {
        "id": "mCeqLro_7zMn"
      },
      "outputs": [],
      "source": [
        "from bs4 import BeautifulSoup\n",
        "import requests\n",
        "import re\n",
        "import pandas as pd\n",
        "import numpy as np"
      ]
    },
    {
      "cell_type": "code",
      "execution_count": 2,
      "metadata": {
        "id": "mz4BrSLF8BK1"
      },
      "outputs": [],
      "source": [
        "tittles=[]\n",
        "years=[]\n",
        "certificates=[]\n",
        "runtimes=[]\n",
        "genres=[]\n",
        "ratings=[]\n",
        "metascore=[]\n",
        "overview = []\n",
        "directors=[]\n",
        "actors=[]\n",
        "listFilm=[]\n",
        "count =0"
      ]
    },
    {
      "cell_type": "code",
      "execution_count": 3,
      "metadata": {
        "colab": {
          "base_uri": "https://localhost:8080/",
          "height": 235
        },
        "id": "M32IMQzh9SQB",
        "outputId": "15929c6d-fe58-43d5-fceb-e8dc0f00e00e"
      },
      "outputs": [],
      "source": [
        "for i in range (0,5000,50):\n",
        "  url  = \"https://www.imdb.com/search/title/?title_type=feature&year=1945-01-01,2021-12-31&sort=num_votes,desc&start=\"\n",
        "  response = requests.get(url, headers={\"Accept-Language\": \"en-US\"})\n",
        "  soup = BeautifulSoup(response.text, \"html.parser\")\n",
        "  count=count+1\n",
        "  movies= soup.find_all('div', class_='lister-item mode-advanced')\n",
        "\n",
        "  for movie in movies:\n",
        "    aFilm=[]\n",
        "    tittle = movie.h3.find('a', href=True).text\n",
        "    year = movie.h3.find('span', class_ = 'lister-item-year text-muted unbold').text\n",
        "    year = year.split(\" \")\n",
        "    if len(year)>1:\n",
        "      year=year[1]\n",
        "      #tittle=tittle+year[0]\n",
        "      #print(tittle,year)\n",
        "    else:\n",
        "      year=year[0]\n",
        "    aFilm.append(tittle)\n",
        "    aFilm.append(year)\n",
        "\n",
        "    rating=float(movie.strong.text)\n",
        "    aFilm.append(rating)\n",
        "\n",
        "    nv = movie.find_all('span', attrs = {'name':'nv'})\n",
        "    vote=nv[0].text\n",
        "    aFilm.append(vote)\n",
        "    \n",
        "    meta = movie.find(\"div\", class_=\"ratings-metascore\")\n",
        "    if meta is not None:\n",
        "      metascore = meta.span.get_text()\n",
        "    else:\n",
        "      meta = \"Unknown\"\n",
        "    aFilm.append(metascore)\n",
        "    \n",
        "    gross= nv[1].text if len(nv) > 1 else '-'\n",
        "    aFilm.append(gross) \n",
        "  \n",
        "    ct=movie.find_all('span', class_=\"certificate\")\n",
        "    certificate=ct[0].text\n",
        "    aFilm.append(certificate)\n",
        "\n",
        "    rt=movie.find_all('span', class_=\"runtime\")\n",
        "    runtime=rt[0].text\n",
        "    aFilm.append(runtime)\n",
        "\n",
        "    gr=movie.find_all('span', class_=\"genre\")\n",
        "    genre=gr[0].text\n",
        "    genre=genre[1:]\n",
        "    genre=genre[:-12]\n",
        "    aFilm.append(genre)\n",
        "    \n",
        "    overview = movie.find_all(\"p\", class_=\"text-muted\")[1].text\n",
        "    aFilm.append(overview)\n",
        "    \n",
        "    star=[]\n",
        "    filminfo1=movie.find_all('p',class_='')\n",
        "    f2=filminfo1[0]\n",
        "    director=f2.find_all('a')[0]\n",
        "    director = director.text\n",
        "    \n",
        "    for a in f2.find_all('a')[1:]:\n",
        "      star.append(a.text)\n",
        "  \n",
        "    aFilm.append(star)\n",
        "\n",
        "    if len(star) >4:\n",
        "      director=star[0]+\"; \"+director\n",
        "      del star[0]\n",
        "    aFilm.append(director)\n",
        "    listFilm.append(aFilm)"
      ]
    },
    {
      "cell_type": "code",
      "execution_count": 4,
      "metadata": {
        "colab": {
          "base_uri": "https://localhost:8080/"
        },
        "id": "RC00mpMTm4IH",
        "outputId": "946eb913-9d95-4bad-8a95-c76accc70f4a"
      },
      "outputs": [
        {
          "data": {
            "text/html": [
              "<div>\n",
              "<style scoped>\n",
              "    .dataframe tbody tr th:only-of-type {\n",
              "        vertical-align: middle;\n",
              "    }\n",
              "\n",
              "    .dataframe tbody tr th {\n",
              "        vertical-align: top;\n",
              "    }\n",
              "\n",
              "    .dataframe thead th {\n",
              "        text-align: right;\n",
              "    }\n",
              "</style>\n",
              "<table border=\"1\" class=\"dataframe\">\n",
              "  <thead>\n",
              "    <tr style=\"text-align: right;\">\n",
              "      <th></th>\n",
              "      <th>Title</th>\n",
              "      <th>Year</th>\n",
              "      <th>Rating</th>\n",
              "      <th>Vote</th>\n",
              "      <th>Metascore</th>\n",
              "      <th>Budget</th>\n",
              "      <th>Certificate</th>\n",
              "      <th>Runtime</th>\n",
              "      <th>Genre</th>\n",
              "      <th>Overview</th>\n",
              "      <th>Artist</th>\n",
              "      <th>Director</th>\n",
              "    </tr>\n",
              "  </thead>\n",
              "  <tbody>\n",
              "    <tr>\n",
              "      <th>0</th>\n",
              "      <td>The Shawshank Redemption</td>\n",
              "      <td>(1994)</td>\n",
              "      <td>9.3</td>\n",
              "      <td>2,750,801</td>\n",
              "      <td>82</td>\n",
              "      <td>$28.34M</td>\n",
              "      <td>R</td>\n",
              "      <td>142 min</td>\n",
              "      <td>Drama</td>\n",
              "      <td>\\nOver the course of several years, two convic...</td>\n",
              "      <td>[Tim Robbins, Morgan Freeman, Bob Gunton, Will...</td>\n",
              "      <td>Frank Darabont</td>\n",
              "    </tr>\n",
              "    <tr>\n",
              "      <th>1</th>\n",
              "      <td>The Dark Knight</td>\n",
              "      <td>(2008)</td>\n",
              "      <td>9.0</td>\n",
              "      <td>2,723,579</td>\n",
              "      <td>84</td>\n",
              "      <td>$534.86M</td>\n",
              "      <td>PG-13</td>\n",
              "      <td>152 min</td>\n",
              "      <td>Action, Crime, Drama</td>\n",
              "      <td>\\nWhen the menace known as the Joker wreaks ha...</td>\n",
              "      <td>[Christian Bale, Heath Ledger, Aaron Eckhart, ...</td>\n",
              "      <td>Christopher Nolan</td>\n",
              "    </tr>\n",
              "    <tr>\n",
              "      <th>2</th>\n",
              "      <td>Inception</td>\n",
              "      <td>(2010)</td>\n",
              "      <td>8.8</td>\n",
              "      <td>2,417,423</td>\n",
              "      <td>74</td>\n",
              "      <td>$292.58M</td>\n",
              "      <td>PG-13</td>\n",
              "      <td>148 min</td>\n",
              "      <td>Action, Adventure, Sci-Fi</td>\n",
              "      <td>\\nA thief who steals corporate secrets through...</td>\n",
              "      <td>[Leonardo DiCaprio, Joseph Gordon-Levitt, Elli...</td>\n",
              "      <td>Christopher Nolan</td>\n",
              "    </tr>\n",
              "    <tr>\n",
              "      <th>3</th>\n",
              "      <td>Fight Club</td>\n",
              "      <td>(1999)</td>\n",
              "      <td>8.8</td>\n",
              "      <td>2,190,483</td>\n",
              "      <td>66</td>\n",
              "      <td>$37.03M</td>\n",
              "      <td>R</td>\n",
              "      <td>139 min</td>\n",
              "      <td>Drama</td>\n",
              "      <td>\\nAn insomniac office worker and a devil-may-c...</td>\n",
              "      <td>[Brad Pitt, Edward Norton, Meat Loaf, Zach Gre...</td>\n",
              "      <td>David Fincher</td>\n",
              "    </tr>\n",
              "    <tr>\n",
              "      <th>4</th>\n",
              "      <td>Forrest Gump</td>\n",
              "      <td>(1994)</td>\n",
              "      <td>8.8</td>\n",
              "      <td>2,139,972</td>\n",
              "      <td>82</td>\n",
              "      <td>$330.25M</td>\n",
              "      <td>PG-13</td>\n",
              "      <td>142 min</td>\n",
              "      <td>Drama, Romance</td>\n",
              "      <td>\\nThe presidencies of Kennedy and Johnson, the...</td>\n",
              "      <td>[Tom Hanks, Robin Wright, Gary Sinise, Sally F...</td>\n",
              "      <td>Robert Zemeckis</td>\n",
              "    </tr>\n",
              "  </tbody>\n",
              "</table>\n",
              "</div>"
            ],
            "text/plain": [
              "                      Title    Year  Rating       Vote   Metascore    Budget  \\\n",
              "0  The Shawshank Redemption  (1994)     9.3  2,750,801  82           $28.34M   \n",
              "1           The Dark Knight  (2008)     9.0  2,723,579  84          $534.86M   \n",
              "2                 Inception  (2010)     8.8  2,417,423  74          $292.58M   \n",
              "3                Fight Club  (1999)     8.8  2,190,483  66           $37.03M   \n",
              "4              Forrest Gump  (1994)     8.8  2,139,972  82          $330.25M   \n",
              "\n",
              "  Certificate  Runtime                      Genre  \\\n",
              "0           R  142 min                      Drama   \n",
              "1       PG-13  152 min       Action, Crime, Drama   \n",
              "2       PG-13  148 min  Action, Adventure, Sci-Fi   \n",
              "3           R  139 min                      Drama   \n",
              "4       PG-13  142 min             Drama, Romance   \n",
              "\n",
              "                                            Overview  \\\n",
              "0  \\nOver the course of several years, two convic...   \n",
              "1  \\nWhen the menace known as the Joker wreaks ha...   \n",
              "2  \\nA thief who steals corporate secrets through...   \n",
              "3  \\nAn insomniac office worker and a devil-may-c...   \n",
              "4  \\nThe presidencies of Kennedy and Johnson, the...   \n",
              "\n",
              "                                              Artist           Director  \n",
              "0  [Tim Robbins, Morgan Freeman, Bob Gunton, Will...     Frank Darabont  \n",
              "1  [Christian Bale, Heath Ledger, Aaron Eckhart, ...  Christopher Nolan  \n",
              "2  [Leonardo DiCaprio, Joseph Gordon-Levitt, Elli...  Christopher Nolan  \n",
              "3  [Brad Pitt, Edward Norton, Meat Loaf, Zach Gre...      David Fincher  \n",
              "4  [Tom Hanks, Robin Wright, Gary Sinise, Sally F...    Robert Zemeckis  "
            ]
          },
          "execution_count": 4,
          "metadata": {},
          "output_type": "execute_result"
        }
      ],
      "source": [
        "df = pd.DataFrame(listFilm, columns =['Title', 'Year', 'Rating','Vote','Metascore','Budget','Certificate','Runtime','Genre','Overview','Artist','Director'])\n",
        "df.head()"
      ]
    },
    {
      "cell_type": "code",
      "execution_count": 5,
      "metadata": {},
      "outputs": [
        {
          "data": {
            "text/plain": [
              "(5000, 12)"
            ]
          },
          "execution_count": 5,
          "metadata": {},
          "output_type": "execute_result"
        }
      ],
      "source": [
        "df.shape"
      ]
    },
    {
      "cell_type": "code",
      "execution_count": 7,
      "metadata": {
        "colab": {
          "base_uri": "https://localhost:8080/"
        },
        "id": "9XJtAqzf-tWA",
        "outputId": "670db298-6777-4938-d081-279b35163047"
      },
      "outputs": [],
      "source": [
        "df.to_csv(\"Movies.csv\")"
      ]
    },
    {
      "cell_type": "code",
      "execution_count": 3,
      "metadata": {},
      "outputs": [],
      "source": [
        "df=pd.read_csv(\"Movies.csv\")"
      ]
    },
    {
      "cell_type": "code",
      "execution_count": 4,
      "metadata": {
        "colab": {
          "base_uri": "https://localhost:8080/"
        },
        "id": "cTZFdqcWplxe",
        "outputId": "92e0ef09-f6c8-43f7-f530-8484cb362e5e"
      },
      "outputs": [
        {
          "data": {
            "text/plain": [
              "Unnamed: 0     0\n",
              "Title          0\n",
              "Year           0\n",
              "Rating         0\n",
              "Vote           0\n",
              "Metascore      0\n",
              "Budget         0\n",
              "Certificate    0\n",
              "Runtime        0\n",
              "Genre          0\n",
              "Overview       0\n",
              "Artist         0\n",
              "Director       0\n",
              "dtype: int64"
            ]
          },
          "execution_count": 4,
          "metadata": {},
          "output_type": "execute_result"
        }
      ],
      "source": [
        "df.isna().sum()"
      ]
    },
    {
      "cell_type": "code",
      "execution_count": 5,
      "metadata": {
        "colab": {
          "base_uri": "https://localhost:8080/"
        },
        "id": "0zhnnDkspo9T",
        "outputId": "6278ad81-6fd9-48a7-fa2d-5f34a1d68461"
      },
      "outputs": [
        {
          "data": {
            "text/plain": [
              "(5000, 13)"
            ]
          },
          "execution_count": 5,
          "metadata": {},
          "output_type": "execute_result"
        }
      ],
      "source": [
        "df.shape"
      ]
    },
    {
      "cell_type": "code",
      "execution_count": 6,
      "metadata": {
        "colab": {
          "base_uri": "https://localhost:8080/"
        },
        "id": "IwcpzZ6DqfNs",
        "outputId": "79a1c669-526f-4ae9-d4eb-18111eabb137"
      },
      "outputs": [
        {
          "name": "stdout",
          "output_type": "stream",
          "text": [
            "<class 'pandas.core.frame.DataFrame'>\n",
            "RangeIndex: 5000 entries, 0 to 4999\n",
            "Data columns (total 13 columns):\n",
            " #   Column       Non-Null Count  Dtype  \n",
            "---  ------       --------------  -----  \n",
            " 0   Unnamed: 0   5000 non-null   int64  \n",
            " 1   Title        5000 non-null   object \n",
            " 2   Year         5000 non-null   object \n",
            " 3   Rating       5000 non-null   float64\n",
            " 4   Vote         5000 non-null   object \n",
            " 5   Metascore    5000 non-null   int64  \n",
            " 6   Budget       5000 non-null   object \n",
            " 7   Certificate  5000 non-null   object \n",
            " 8   Runtime      5000 non-null   object \n",
            " 9   Genre        5000 non-null   object \n",
            " 10  Overview     5000 non-null   object \n",
            " 11  Artist       5000 non-null   object \n",
            " 12  Director     5000 non-null   object \n",
            "dtypes: float64(1), int64(2), object(10)\n",
            "memory usage: 507.9+ KB\n"
          ]
        }
      ],
      "source": [
        "df.info()"
      ]
    },
    {
      "cell_type": "code",
      "execution_count": 7,
      "metadata": {
        "colab": {
          "base_uri": "https://localhost:8080/",
          "height": 300
        },
        "id": "QrKfp1oErHpG",
        "outputId": "18d4020c-b59e-49b3-eed5-60d82ebc50d2"
      },
      "outputs": [
        {
          "data": {
            "text/html": [
              "<div>\n",
              "<style scoped>\n",
              "    .dataframe tbody tr th:only-of-type {\n",
              "        vertical-align: middle;\n",
              "    }\n",
              "\n",
              "    .dataframe tbody tr th {\n",
              "        vertical-align: top;\n",
              "    }\n",
              "\n",
              "    .dataframe thead th {\n",
              "        text-align: right;\n",
              "    }\n",
              "</style>\n",
              "<table border=\"1\" class=\"dataframe\">\n",
              "  <thead>\n",
              "    <tr style=\"text-align: right;\">\n",
              "      <th></th>\n",
              "      <th>Unnamed: 0</th>\n",
              "      <th>Rating</th>\n",
              "      <th>Metascore</th>\n",
              "    </tr>\n",
              "  </thead>\n",
              "  <tbody>\n",
              "    <tr>\n",
              "      <th>count</th>\n",
              "      <td>5000.000000</td>\n",
              "      <td>5000.000000</td>\n",
              "      <td>5000.000000</td>\n",
              "    </tr>\n",
              "    <tr>\n",
              "      <th>mean</th>\n",
              "      <td>2499.500000</td>\n",
              "      <td>8.526000</td>\n",
              "      <td>78.280000</td>\n",
              "    </tr>\n",
              "    <tr>\n",
              "      <th>std</th>\n",
              "      <td>1443.520003</td>\n",
              "      <td>0.316139</td>\n",
              "      <td>10.970217</td>\n",
              "    </tr>\n",
              "    <tr>\n",
              "      <th>min</th>\n",
              "      <td>0.000000</td>\n",
              "      <td>7.900000</td>\n",
              "      <td>59.000000</td>\n",
              "    </tr>\n",
              "    <tr>\n",
              "      <th>25%</th>\n",
              "      <td>1249.750000</td>\n",
              "      <td>8.300000</td>\n",
              "      <td>69.000000</td>\n",
              "    </tr>\n",
              "    <tr>\n",
              "      <th>50%</th>\n",
              "      <td>2499.500000</td>\n",
              "      <td>8.500000</td>\n",
              "      <td>78.000000</td>\n",
              "    </tr>\n",
              "    <tr>\n",
              "      <th>75%</th>\n",
              "      <td>3749.250000</td>\n",
              "      <td>8.700000</td>\n",
              "      <td>87.000000</td>\n",
              "    </tr>\n",
              "    <tr>\n",
              "      <th>max</th>\n",
              "      <td>4999.000000</td>\n",
              "      <td>9.300000</td>\n",
              "      <td>100.000000</td>\n",
              "    </tr>\n",
              "  </tbody>\n",
              "</table>\n",
              "</div>"
            ],
            "text/plain": [
              "        Unnamed: 0       Rating    Metascore\n",
              "count  5000.000000  5000.000000  5000.000000\n",
              "mean   2499.500000     8.526000    78.280000\n",
              "std    1443.520003     0.316139    10.970217\n",
              "min       0.000000     7.900000    59.000000\n",
              "25%    1249.750000     8.300000    69.000000\n",
              "50%    2499.500000     8.500000    78.000000\n",
              "75%    3749.250000     8.700000    87.000000\n",
              "max    4999.000000     9.300000   100.000000"
            ]
          },
          "execution_count": 7,
          "metadata": {},
          "output_type": "execute_result"
        }
      ],
      "source": [
        "df.describe()"
      ]
    },
    {
      "cell_type": "code",
      "execution_count": 10,
      "metadata": {
        "colab": {
          "base_uri": "https://localhost:8080/",
          "height": 554
        },
        "id": "087euSmashBj",
        "outputId": "28e96425-a1fc-4e3a-93c2-65c943e47eb9"
      },
      "outputs": [
        {
          "data": {
            "text/plain": [
              "Unnamed: 0                                                    50\n",
              "Title                                   The Shawshank Redemption\n",
              "Year                                                      (1994)\n",
              "Rating                                                       9.3\n",
              "Vote                                                   2,750,801\n",
              "Metascore                                                     82\n",
              "Budget                                                   $28.34M\n",
              "Certificate                                                    R\n",
              "Runtime                                                  142 min\n",
              "Genre                                                      Drama\n",
              "Overview       \\nOver the course of several years, two convic...\n",
              "Artist         ['Tim Robbins', 'Morgan Freeman', 'Bob Gunton'...\n",
              "Director                                          Frank Darabont\n",
              "Name: 50, dtype: object"
            ]
          },
          "execution_count": 10,
          "metadata": {},
          "output_type": "execute_result"
        }
      ],
      "source": [
        "df.iloc[50]"
      ]
    }
  ],
  "metadata": {
    "colab": {
      "provenance": []
    },
    "kernelspec": {
      "display_name": "Python 3",
      "name": "python3"
    },
    "language_info": {
      "codemirror_mode": {
        "name": "ipython",
        "version": 3
      },
      "file_extension": ".py",
      "mimetype": "text/x-python",
      "name": "python",
      "nbconvert_exporter": "python",
      "pygments_lexer": "ipython3",
      "version": "3.9.13"
    }
  },
  "nbformat": 4,
  "nbformat_minor": 0
}
